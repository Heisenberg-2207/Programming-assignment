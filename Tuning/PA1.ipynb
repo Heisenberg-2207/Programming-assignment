{
 "cells": [
  {
   "cell_type": "code",
   "execution_count": null,
   "metadata": {},
   "outputs": [],
   "source": [
    "import Algorithms\n",
    "import Tune\n",
    "import numpy as np\n",
    "from mpl_toolkits import mplot3d \n",
    "import matplotlib.pyplot as plt\n",
    "from matplotlib import cm \n",
    "\n"
   ]
  },
  {
   "cell_type": "markdown",
   "metadata": {},
   "source": [
    "Hyper-parameter tuning for Sarsa with Softmax using Bayesian Optimisation"
   ]
  },
  {
   "cell_type": "code",
   "execution_count": null,
   "metadata": {},
   "outputs": [],
   "source": [
    "''' a_sarsa_sfm, tau_sarsa, cost_sarsa_sfm, steps_sfm_sarsa = Tune.sarsa_softmax_tune()\n",
    "a_sarsa_eps, eps_sarsa, cost_sarsa_eps, steps_eps_sarsa = Tune.sarsa_eps_tune()\n",
    "a_q_eps, eps_q, cost_q_eps, steps_eps_q = Tune.q_eps_tune()\n",
    "a_q_sfm, tau_q, cost_q_sfm, steps, steps_sfm_q = Tune.q_sfm_tune() '''"
   ]
  },
  {
   "cell_type": "markdown",
   "metadata": {},
   "source": [
    "alphas\n",
    "print(a_q_eps)\n",
    "#print(a_q_sfm)\n",
    "print(a_sarsa_eps)\n",
    "print(a_sarsa_sfm)\n",
    "\n",
    "[0.14930671317372957, 0.015691638802614705, 0.015569203208300686, 0.42657081177004946, 0.015569203208300686, 0.14930671317372957]\n",
    "[0.43859678076017333, 0.417022004702574, 0.03181004588058478, 0.012096760015357866, 0.012096760015357866, 0.417022004702574]\n",
    "[0.417022004702574, 0.417022004702574, 0.8772027511080353, 0.417022004702574, 0.417022004702574, 0.4150070363847951]\n",
    "\n",
    "tau - sarsa\n",
    "[0.7482920440979423, 0.7482920440979423, 0.9367448851409738, 0.7482920440979423, 0.7482920440979423, 0.7525088958856196]\n",
    "\n",
    "eps\n",
    "[0.6659305876024864, 0.36931912206946993, 0.3745747664550374, 0.7283083362277069, 0.3745747664550374, 0.6659305876024864]\n",
    "[0.7031411357845907, 0.7482920440979423, 0.3715428471449306, 0.37301110453771213, 0.37301110453771213, 0.7482920440979423]\n",
    "\n",
    "cost\n",
    "-6.0\n",
    "-50.0\n",
    "-4.0\n",
    "\n",
    "print(steps_eps_q)\n",
    "print(steps_eps_sarsa)\n",
    "#print(steps_sfm_q)\n",
    "print(steps_sfm_sarsa)\n",
    "13.377\n",
    "20.7954\n",
    "13.405"
   ]
  },
  {
   "cell_type": "markdown",
   "metadata": {},
   "source": [
    "Sarsa - Navin"
   ]
  },
  {
   "cell_type": "code",
   "execution_count": null,
   "metadata": {},
   "outputs": [],
   "source": [
    "\n",
    "for index in range(0,6):\n",
    "    alpha =  [0.417022004702574, 0.417022004702574, 0.8772027511080353, 0.417022004702574, 0.417022004702574, 0.4150070363847951]  #lesser alpha more stable approach with less deviations\n",
    "    gamma = 0.95 #direct inverse co-relation with solving time and reward\n",
    "    episodes = 5000\n",
    "    tau = [0.7482920440979423, 0.7482920440979423, 0.9367448851409738, 0.7482920440979423, 0.7482920440979423, 0.7525088958856196]\n",
    "    env  = Algorithms.world(world_num = index)\n",
    "    Problem = Algorithms.Solver(env,episodes,index)\n",
    "    Problem.initiate(Problem.choose_action_epsilon,Problem.sarsa)\n",
    "    Problem.solve_softmax(alpha[index],tau[index])\n"
   ]
  },
  {
   "cell_type": "markdown",
   "metadata": {},
   "source": [
    "Q_Learning - Aniket"
   ]
  },
  {
   "cell_type": "code",
   "execution_count": null,
   "metadata": {},
   "outputs": [],
   "source": [
    "for index in range(0,6):\n",
    "    [0.14930671317372957, 0.015691638802614705, 0.015569203208300686, 0.42657081177004946, 0.015569203208300686, 0.14930671317372957]  #lesser alpha more stable approach with less deviations\n",
    "    gamma = 0.95 #direct inverse co-relation with solving time and reward\n",
    "    episodes = 5000\n",
    "    eps = [0.6659305876024864, 0.36931912206946993, 0.3745747664550374, 0.7283083362277069, 0.3745747664550374, 0.6659305876024864]\n",
    "    env  = Algorithms.world(world_num = index)\n",
    "    Problem = Algorithms.Solver(env,episodes,index)\n",
    "    Problem.initiate(Problem.choose_action_epsilon,Problem.qlearning)\n",
    "    Problem.solve_softmax(alpha[index],eps[index])"
   ]
  }
 ],
 "metadata": {
  "kernelspec": {
   "display_name": "Python 3",
   "language": "python",
   "name": "python3"
  },
  "language_info": {
   "codemirror_mode": {
    "name": "ipython",
    "version": 3
   },
   "file_extension": ".py",
   "mimetype": "text/x-python",
   "name": "python",
   "nbconvert_exporter": "python",
   "pygments_lexer": "ipython3",
   "version": "3.8.10"
  }
 },
 "nbformat": 4,
 "nbformat_minor": 2
}
